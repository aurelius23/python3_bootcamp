{
 "cells": [
  {
   "cell_type": "markdown",
   "metadata": {},
   "source": [
    "# Milestone Project 1\n",
    "## Congratulations on making it to your first milestone!\n",
    "You've already learned a ton and are ready to work on a real project.\n",
    "\n",
    "Your assignment: Create a Tic Tac Toe game. You are free to use any IDE you like.\n",
    "\n",
    "Here are the requirements:\n",
    "\n",
    "* 2 players should be able to play the game (both sitting at the same computer)\n",
    "* The board should be printed out every time a player makes a move\n",
    "* You should be able to accept input of the player position and then place a symbol on the board\n",
    "\n",
    "Feel free to use Google to help you figure anything out (but don't just Google \"Tic Tac Toe in Python\" otherwise you won't learn anything!) Keep in mind that this project can take anywhere between several hours to several days.\n",
    "\n",
    "There are 4 Jupyter Notebooks related to this assignment:\n",
    "\n",
    "* This Assignment Notebook\n",
    "* A \"Walkthrough Steps Workbook\" Notebook\n",
    "* A \"Complete Walkthrough Solution\" Notebook\n",
    "* An \"Advanced Solution\" Notebook\n",
    "\n",
    "I encourage you to just try to start the project on your own without referencing any of the notebooks. If you get stuck, check out the next lecture which is a text lecture with helpful hints and steps. If you're still stuck after that, then check out the Walkthrough Steps Workbook, which breaks up the project in steps for you to solve. Still stuck? Then check out the Complete Walkthrough Solution video for more help on approaching the project!"
   ]
  },
  {
   "cell_type": "markdown",
   "metadata": {},
   "source": [
    "There are parts of this that will be a struggle...and that is good! I have complete faith that if you have made it this far through the course you have all the tools and knowledge to tackle this project. Remember, it's totally open book, so take your time, do a little research, and remember:\n",
    "\n",
    "## HAVE FUN!"
   ]
  },
  {
   "cell_type": "code",
   "execution_count": null,
   "metadata": {},
   "outputs": [],
   "source": [
    "def insert_coor(board,player):\n",
    "    print(\"Now is the turn of Player {0}\".format(player))\n",
    "    while True:\n",
    "        point = list(input(\"Please select coordinates: \"))\n",
    "        coors = []\n",
    "        for i in point:\n",
    "            if i.isdigit():\n",
    "                coors.append(i)\n",
    "        if len(coors) >= 2:\n",
    "            y = int(coors[0]) - 1\n",
    "            x = int(coors[1]) - 1\n",
    "        else:\n",
    "            print(\"Not enough coordinates given. Please retry.\")\n",
    "            continue\n",
    "            \n",
    "        if x >= 0 and x < 3 and y >= 0 and y < 3:\n",
    "            if board[x,y] == 0:\n",
    "                board[x,y] = player\n",
    "                print(board)\n",
    "                break\n",
    "            else:\n",
    "                print(\"Point already used, please choose another one\")\n",
    "                continue\n",
    "        else:\n",
    "            print(\"Coordinates out of bound. Please retry.\")\n",
    "            continue"
   ]
  },
  {
   "cell_type": "code",
   "execution_count": null,
   "metadata": {},
   "outputs": [],
   "source": [
    "def row_win(board,player):\n",
    "    \n",
    "    for i in board:\n",
    "        a = np.asarray(i)[0]\n",
    "        \n",
    "        if any(a != player):\n",
    "            continue\n",
    "        else:\n",
    "            return True\n",
    "        \n",
    "    return False"
   ]
  },
  {
   "cell_type": "code",
   "execution_count": null,
   "metadata": {},
   "outputs": [],
   "source": [
    "def col_win(board,player):\n",
    "    \n",
    "    for i in range(3):\n",
    "        col = board[:,i]\n",
    "        col = np.asarray(col)[:,0]\n",
    "        \n",
    "        if any(col != player):\n",
    "            continue\n",
    "        else:\n",
    "            return True\n",
    "    return False"
   ]
  },
  {
   "cell_type": "code",
   "execution_count": null,
   "metadata": {},
   "outputs": [],
   "source": [
    "def diag_win(board,player):\n",
    "    diag1 = []\n",
    "    diag2 = []\n",
    "    \n",
    "    for i,j in zip(range(3),reversed(range(3))):\n",
    "        diag1.append(board[i,i])\n",
    "        diag2.append(board[i,j])\n",
    "        \n",
    "    diags = [diag1,diag2]\n",
    "    \n",
    "    for diag in diags:\n",
    "        diag = np.asarray(diag)\n",
    "        if any(diag != player):\n",
    "            continue\n",
    "        else:\n",
    "            return True\n",
    "    \n",
    "    return False"
   ]
  },
  {
   "cell_type": "code",
   "execution_count": null,
   "metadata": {},
   "outputs": [],
   "source": [
    "a = print(\"Congratulation!\")\n"
   ]
  },
  {
   "cell_type": "code",
   "execution_count": null,
   "metadata": {},
   "outputs": [],
   "source": [
    "def check_win(board,player):\n",
    "    if row_win(board,player):\n",
    "        return True\n",
    "    elif col_win(board,player):\n",
    "        return True\n",
    "    elif diag_win(board,player):\n",
    "        return True\n",
    "    else:\n",
    "        return False"
   ]
  },
  {
   "cell_type": "code",
   "execution_count": null,
   "metadata": {},
   "outputs": [],
   "source": [
    "row_1 = np.matrix([[1,1,1],[0,0,0],[0,0,0]])\n",
    "row_2 = np.matrix([[2,2,2],[0,0,0],[0,0,0]])\n",
    "\n",
    "col_1 = np.matrix([[1,0,0],[1,0,0],[1,0,0]])\n",
    "col_2 = np.matrix([[2,0,0],[2,0,0],[2,0,0]])\n",
    "\n",
    "diag_1 = np.matrix([[0,0,1],[0,1,0],[1,0,0]])\n",
    "diag_2 = np.matrix([[2,0,0],[0,2,0],[0,0,2]])"
   ]
  },
  {
   "cell_type": "code",
   "execution_count": null,
   "metadata": {},
   "outputs": [],
   "source": [
    "board = np.matrix([[0,0,0],[0,0,0],[0,0,0]])"
   ]
  },
  {
   "cell_type": "code",
   "execution_count": null,
   "metadata": {},
   "outputs": [],
   "source": [
    "import numpy as np\n",
    "board = np.matrix([[0,0,0],[0,0,0],[0,0,0]])\n",
    "while True:\n",
    "    insert_coor(board,1)\n",
    "    if check_win(board,1):\n",
    "        print(\"Congratulation to player 1!\")\n",
    "        break\n",
    "    elif np.all(board != 0):\n",
    "        print(\"No moves remained\")\n",
    "        break\n",
    "    \n",
    "    insert_coor(board,2)\n",
    "    if check_win(board,2):\n",
    "        print(\"Congratulation to player 2!\")\n",
    "        break\n",
    "    elif np.all(board != 0):\n",
    "        print(\"No moves remained\")\n",
    "        break"
   ]
  },
  {
   "cell_type": "code",
   "execution_count": 13,
   "metadata": {},
   "outputs": [],
   "source": [
    "import numpy as np\n",
    "board = np.matrix([[0,0,0],[0,0,0],[0,0,0]])"
   ]
  },
  {
   "cell_type": "code",
   "execution_count": 26,
   "metadata": {},
   "outputs": [
    {
     "data": {
      "text/plain": [
       "matrix([[1, 0, 0],\n",
       "        [0, 0, 0],\n",
       "        [0, 0, 0]])"
      ]
     },
     "execution_count": 26,
     "metadata": {},
     "output_type": "execute_result"
    }
   ],
   "source": [
    "board"
   ]
  },
  {
   "cell_type": "code",
   "execution_count": 28,
   "metadata": {},
   "outputs": [
    {
     "data": {
      "text/plain": [
       "False"
      ]
     },
     "execution_count": 28,
     "metadata": {},
     "output_type": "execute_result"
    }
   ],
   "source": [
    "np.all(board != 0)"
   ]
  },
  {
   "cell_type": "code",
   "execution_count": 34,
   "metadata": {},
   "outputs": [
    {
     "name": "stdout",
     "output_type": "stream",
     "text": [
      "3  3\n"
     ]
    }
   ],
   "source": [
    "a = list(input())"
   ]
  },
  {
   "cell_type": "code",
   "execution_count": 35,
   "metadata": {},
   "outputs": [
    {
     "data": {
      "text/plain": [
       "['3', ' ', ' ', '3']"
      ]
     },
     "execution_count": 35,
     "metadata": {},
     "output_type": "execute_result"
    }
   ],
   "source": [
    "a"
   ]
  },
  {
   "cell_type": "code",
   "execution_count": 39,
   "metadata": {},
   "outputs": [],
   "source": [
    "nums = []\n",
    "for element in a:\n",
    "    if element.isdigit():\n",
    "        nums.append(element)"
   ]
  },
  {
   "cell_type": "code",
   "execution_count": 40,
   "metadata": {},
   "outputs": [
    {
     "data": {
      "text/plain": [
       "['3', '3']"
      ]
     },
     "execution_count": 40,
     "metadata": {},
     "output_type": "execute_result"
    }
   ],
   "source": [
    "nums"
   ]
  },
  {
   "cell_type": "code",
   "execution_count": null,
   "metadata": {},
   "outputs": [],
   "source": [
    "x = int(nums[0])\n",
    "y = int(nums)"
   ]
  }
 ],
 "metadata": {
  "kernelspec": {
   "display_name": "Python 3",
   "language": "python",
   "name": "python3"
  },
  "language_info": {
   "codemirror_mode": {
    "name": "ipython",
    "version": 3
   },
   "file_extension": ".py",
   "mimetype": "text/x-python",
   "name": "python",
   "nbconvert_exporter": "python",
   "pygments_lexer": "ipython3",
   "version": "3.6.4"
  }
 },
 "nbformat": 4,
 "nbformat_minor": 1
}
