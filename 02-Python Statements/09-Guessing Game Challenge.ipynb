{
 "cells": [
  {
   "cell_type": "markdown",
   "metadata": {},
   "source": [
    "# Guessing Game Challenge\n",
    "\n",
    "Let's use `while` loops to create a guessing game.\n",
    "\n",
    "The Challenge:\n",
    "\n",
    "Write a program that picks a random integer from 1 to 100, and has players guess the number. The rules are:\n",
    "\n",
    "1. If a player's guess is less than 1 or greater than 100, say \"OUT OF BOUNDS\"\n",
    "2. On a player's first turn, if their guess is\n",
    " * within 10 of the number, return \"WARM!\"\n",
    " * further than 10 away from the number, return \"COLD!\"\n",
    "3. On all subsequent turns, if a guess is \n",
    " * closer to the number than the previous guess return \"WARMER!\"\n",
    " * farther from the number than the previous guess, return \"COLDER!\"\n",
    "4. When the player's guess equals the number, tell them they've guessed correctly *and* how many guesses it took!\n",
    "\n",
    "You can try this from scratch, or follow the steps outlined below. A separate Solution notebook has been provided. Good luck!\n"
   ]
  },
  {
   "cell_type": "markdown",
   "metadata": {},
   "source": [
    "#### First, pick a random integer from 1 to 100 using the random module and assign it to a variable\n",
    "\n",
    "Note: `random.randint(a,b)` returns a random integer in range `[a, b]`, including both end points."
   ]
  },
  {
   "cell_type": "code",
   "execution_count": null,
   "metadata": {},
   "outputs": [],
   "source": []
  },
  {
   "cell_type": "markdown",
   "metadata": {},
   "source": [
    "#### Next, print an introduction to the game and explain the rules"
   ]
  },
  {
   "cell_type": "code",
   "execution_count": 6,
   "metadata": {},
   "outputs": [
    {
     "name": "stdout",
     "output_type": "stream",
     "text": [
      "in this game you have to guess a number between 1 and 100. The game will give you feedback (warm, cold) until you will find the number\n"
     ]
    }
   ],
   "source": [
    "print(\"in this game you have to guess a number between 1 and 100. The game will give you feedback (warm, cold) until you will find the number\")"
   ]
  },
  {
   "cell_type": "markdown",
   "metadata": {},
   "source": [
    "#### Create a list to store guesses\n",
    "\n",
    "Hint: zero is a good placeholder value. It's useful because it evaluates to \"False\""
   ]
  },
  {
   "cell_type": "code",
   "execution_count": 10,
   "metadata": {},
   "outputs": [],
   "source": [
    "guesses = [0]"
   ]
  },
  {
   "cell_type": "markdown",
   "metadata": {},
   "source": [
    "#### Write a `while` loop that asks for a valid guess. Test it a few times to make sure it works."
   ]
  },
  {
   "cell_type": "code",
   "execution_count": 21,
   "metadata": {},
   "outputs": [
    {
     "name": "stdout",
     "output_type": "stream",
     "text": [
      "What is you guess?: 0\n",
      "input not valid, please retry\n",
      "What is you guess?: 22\n"
     ]
    }
   ],
   "source": [
    "# 1. pick random\n",
    "\n",
    "import random\n",
    "random = random.randint(1,100)\n",
    "\n",
    "# 2. create a list of guesses\n",
    "\n",
    "guesses = []\n",
    "\n",
    "# 3. check guesses is not out of bound\n",
    "\n",
    "while True:\n",
    "    guess = int(input(\"What is you guess?: \"))\n",
    "    if guess > 100 or guess < 1:\n",
    "        print(\"input not valid, please retry\")\n",
    "        continue\n",
    "    guesses.append(guess)\n",
    "    break"
   ]
  },
  {
   "cell_type": "code",
   "execution_count": 20,
   "metadata": {},
   "outputs": [
    {
     "data": {
      "text/plain": [
       "1"
      ]
     },
     "execution_count": 20,
     "metadata": {},
     "output_type": "execute_result"
    }
   ],
   "source": [
    "while True:\n",
    "    # check if guessed\n",
    "    if guess == random:\n",
    "        print(\"congratulation! you have guessed!\")\n",
    "        \n",
    "    break\n",
    "    \n",
    "    elif abs(guesses[0] - random) < 10:\n",
    "        guesses.append(guess)\n",
    "        print(\"Warm!\")\n",
    "        int(input(\"Please enter another value: \"))\n",
    "    elif abs(guesses[0] - random) > 10:\n",
    "        guesses.append(guess)\n",
    "        print(\"Cold!\")\n",
    "    "
   ]
  },
  {
   "cell_type": "code",
   "execution_count": null,
   "metadata": {},
   "outputs": [],
   "source": []
  },
  {
   "cell_type": "markdown",
   "metadata": {},
   "source": [
    "#### Write a `while` loop that compares the player's guess to our number. If the player guesses correctly, break from the loop. Otherwise, tell the player if they're warmer or colder, and continue asking for guesses.\n",
    "\n",
    "Some hints:\n",
    "* it may help to sketch out all possible combinations on paper first!\n",
    "* you can use the `abs()` function to find the positive difference between two numbers\n",
    "* if you append all new guesses to the list, then the previous guess is given as `guesses[-2]`"
   ]
  },
  {
   "cell_type": "code",
   "execution_count": null,
   "metadata": {},
   "outputs": [
    {
     "name": "stdout",
     "output_type": "stream",
     "text": [
      "I'm thinking of a number between 1 and 100.\n",
      "  What is your guess? 44\n",
      "I'm thinking of a number between 1 and 100.\n",
      "  What is your guess? 45\n",
      "I'm thinking of a number between 1 and 100.\n",
      "  What is your guess? 46\n",
      "I'm thinking of a number between 1 and 100.\n",
      "  What is your guess? 47\n",
      "I'm thinking of a number between 1 and 100.\n",
      "  What is your guess? 48\n",
      "I'm thinking of a number between 1 and 100.\n",
      "  What is your guess? 49\n",
      "I'm thinking of a number between 1 and 100.\n",
      "  What is your guess? 40\n"
     ]
    }
   ],
   "source": [
    "import random\n",
    "num = random.randint(1,100)\n",
    "guesses = [0]\n",
    "\n",
    "while True:\n",
    "\n",
    "    # we can copy the code from above to take an input\n",
    "    guess = int(input(\"I'm thinking of a number between 1 and 100.\\n  What is your guess? \"))\n",
    "    \n",
    "    if guess < 1 or guess > 100:\n",
    "        print('OUT OF BOUNDS! Please try again: ')\n",
    "        continue\n",
    "    \n",
    "    # here we compare the player's guess to our number\n",
    "    if guess == num:\n",
    "        print(f'CONGRATULATIONS, YOU GUESSED IT IN ONLY {len(guesses)} GUESSES!!')\n",
    "        break\n",
    "        \n",
    "    # if guess is incorrect, add guess to the list\n",
    "    guesses.append(guess)\n",
    "    \n",
    "    "
   ]
  },
  {
   "cell_type": "code",
   "execution_count": 2,
   "metadata": {},
   "outputs": [
    {
     "name": "stdout",
     "output_type": "stream",
     "text": [
      "WELCOME TO GUESS ME!\n",
      "I'm thinking of a number between 1 and 100\n",
      "If your guess is more than 10 away from my number, I'll tell you you're COLD\n",
      "If your guess is within 10 of my number, I'll tell you you're WARM\n",
      "If your guess is farther than your most recent guess, I'll say you're getting COLDER\n",
      "If your guess is closer than your most recent guess, I'll say you're getting WARMER\n",
      "LET'S PLAY!\n",
      "What is your guess?: 44\n",
      "Cold!\n",
      "What is your guess?: 77\n",
      "Colder!\n",
      "What is your guess?: 32\n",
      "Warmer!\n",
      "What is your guess?: 26\n",
      "Warmer!\n",
      "What is your guess?: 16\n",
      "Warmer!\n",
      "What is your guess?: 3\n",
      "Colder!\n",
      "What is your guess?: 9\n",
      "Warmer!\n",
      "What is your guess?: 19\n",
      "Colder!\n",
      "What is your guess?: 11\n",
      "Warmer!\n",
      "What is your guess?: 10\n",
      "Colder!\n",
      "What is your guess?: 12\n",
      "Congratulation! You have Win in 11 guesses!\n"
     ]
    }
   ],
   "source": [
    "import random\n",
    "print(\"WELCOME TO GUESS ME!\")\n",
    "print(\"I'm thinking of a number between 1 and 100\")\n",
    "print(\"If your guess is more than 10 away from my number, I'll tell you you're COLD\")\n",
    "print(\"If your guess is within 10 of my number, I'll tell you you're WARM\")\n",
    "print(\"If your guess is farther than your most recent guess, I'll say you're getting COLDER\")\n",
    "print(\"If your guess is closer than your most recent guess, I'll say you're getting WARMER\")\n",
    "print(\"LET'S PLAY!\")\n",
    "\n",
    "guesses = [0]\n",
    "num = random.randint(1,100)\n",
    "while True:\n",
    "    \n",
    "    guess = int(input(\"What is your guess?: \"))\n",
    "    \n",
    "    \n",
    "    if guess > 100 or guess < 1:\n",
    "        print(\"input not valid, please retry\")\n",
    "        continue\n",
    "        \n",
    "    if guess == num:\n",
    "        print(\"Congratulation! You have Win in {0} guesses!\".format(len(guesses)))\n",
    "        break\n",
    "        \n",
    "    guesses.append(guess)\n",
    "   \n",
    "\n",
    "        \n",
    "    if guesses[-2]:\n",
    "        if abs(guess - num) < abs(guesses[-2] - num):\n",
    "            print(\"Warmer!\")\n",
    "            \n",
    "        elif abs(guess - num) > abs(guesses[-2] - num):\n",
    "            print(\"Colder!\")\n",
    "            \n",
    "    else:\n",
    "        if abs(guesses[0] - num) < 10:\n",
    "            print(\"Warm!\")\n",
    "            \n",
    "            \n",
    "            \n",
    "        elif abs(guesses[0] - num) > 10:\n",
    "            print(\"Cold!\")"
   ]
  },
  {
   "cell_type": "markdown",
   "metadata": {},
   "source": [
    "### Good Job!"
   ]
  },
  {
   "cell_type": "code",
   "execution_count": 4,
   "metadata": {},
   "outputs": [
    {
     "name": "stdout",
     "output_type": "stream",
     "text": [
      "Please enter a number: 33\n",
      "Warm!\n",
      "Please enter a number: 40\n",
      "Colder!\n",
      "Please enter a number: 25\n",
      "Warmer!\n",
      "Please enter a number: 24\n",
      "Colder!\n",
      "Please enter a number: 26\n",
      "Warmer!\n",
      "Please enter a number: 27\n",
      "Congratulation! The number was 27 .You have win with 6 guesses\n"
     ]
    }
   ],
   "source": [
    "import random\n",
    "\n",
    "num = random.randint(1,100)\n",
    "guesses = [0]\n",
    "\n",
    "while True:\n",
    "    guess = int(input(\"Please enter a number: \"))\n",
    "    \n",
    "    if guess < 1 or guess > 100:\n",
    "        print(\"out of bound, retry\")\n",
    "        continue\n",
    "        \n",
    "    if guess == num:\n",
    "        print(\"Congratulation! The number was {0} .You have win with {1} guesses!\".format(num,len(guesses)))\n",
    "        break\n",
    "        \n",
    "    guesses.append(guess)\n",
    "        \n",
    "    if guesses[-2]:\n",
    "        if abs(guess-num) < abs(guesses[-2]-num):\n",
    "            print(\"Warmer!\")\n",
    "            \n",
    "        else:\n",
    "            print(\"Colder!\")\n",
    "            \n",
    "    else:\n",
    "        if abs(guess-num) < 10:\n",
    "            print(\"Warm!\")\n",
    "        else:\n",
    "            print(\"Cold!\")\n",
    "        "
   ]
  },
  {
   "cell_type": "code",
   "execution_count": null,
   "metadata": {},
   "outputs": [],
   "source": []
  }
 ],
 "metadata": {
  "kernelspec": {
   "display_name": "Python 3",
   "language": "python",
   "name": "python3"
  },
  "language_info": {
   "codemirror_mode": {
    "name": "ipython",
    "version": 3
   },
   "file_extension": ".py",
   "mimetype": "text/x-python",
   "name": "python",
   "nbconvert_exporter": "python",
   "pygments_lexer": "ipython3",
   "version": "3.6.4"
  }
 },
 "nbformat": 4,
 "nbformat_minor": 2
}
