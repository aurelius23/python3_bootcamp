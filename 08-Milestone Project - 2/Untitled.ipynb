{
 "cells": [
  {
   "cell_type": "code",
   "execution_count": 1,
   "metadata": {},
   "outputs": [],
   "source": [
    "class Card:\n",
    "    def __init__(self,value,name = \"\"):\n",
    "        \n",
    "        figures = [\"jack\",\"queen\",\"king\"]\n",
    "        if value in figures:\n",
    "            self.value = 10\n",
    "            self.name = value + \" card\"\n",
    "        \n",
    "        elif value == \"ace\":\n",
    "            self.name = str(value) + \" card\"\n",
    "            self.value = 11\n",
    "            \n",
    "        else:\n",
    "            self.value = value\n",
    "            self.name = str(value) + \" card\"\n",
    "        \n",
    "    "
   ]
  },
  {
   "cell_type": "code",
   "execution_count": 2,
   "metadata": {},
   "outputs": [],
   "source": [
    "def create_deck():\n",
    "    deck = []\n",
    "    figures = [\"jack\",\"queen\",\"king\",\"ace\"]\n",
    "    for card in range(2,11):\n",
    "        deck += [Card(card)] * 4\n",
    "    for figure in figures:\n",
    "        deck += [Card(figure)] * 4\n",
    "    return deck"
   ]
  },
  {
   "cell_type": "code",
   "execution_count": 17,
   "metadata": {},
   "outputs": [],
   "source": [
    "import random\n",
    "import math"
   ]
  },
  {
   "cell_type": "code",
   "execution_count": 4,
   "metadata": {},
   "outputs": [
    {
     "data": {
      "text/plain": [
       "52"
      ]
     },
     "execution_count": 4,
     "metadata": {},
     "output_type": "execute_result"
    }
   ],
   "source": [
    "deck = create_deck()\n",
    "len(deck)"
   ]
  },
  {
   "cell_type": "code",
   "execution_count": 5,
   "metadata": {},
   "outputs": [],
   "source": [
    "class Hand:\n",
    "\n",
    "    def __init__(self,player,deposit=0):\n",
    "        self.player = player\n",
    "        self.cards = []\n",
    "        self.deposit = deposit\n",
    "\n",
    "        \n",
    "    def draw(self):\n",
    "        x = deck[random.randint(0,(len(deck)-1))]\n",
    "        self.cards.append(x)\n",
    "        deck.remove(x)\n",
    "        \n",
    "        print(\"player {0}: {1}\".format(self.player,[i.name for i in self.cards]))\n",
    "        \n",
    "    def start_draw(self):\n",
    "        x = deck[random.randint(0,(len(deck)-1))]\n",
    "        self.cards.append(x)\n",
    "        deck.remove(x)\n",
    "        \n",
    "        y = deck[random.randint(0,(len(deck)-1))]\n",
    "        self.cards.append(y)\n",
    "        deck.remove(y)\n",
    "        \n",
    "        if self.player == \"dealer\":\n",
    "            print(\"dealer: {0}\".format(self.cards[0].name))\n",
    "        else:\n",
    "            print(\"player {0}: {1} {2}\".format(self.player,self.cards[0].name,self.cards[1].name))"
   ]
  },
  {
   "cell_type": "code",
   "execution_count": 32,
   "metadata": {},
   "outputs": [],
   "source": [
    "def check(player):\n",
    "    \n",
    "    v = 0\n",
    "    idx = None\n",
    "    ace = False\n",
    "    for i,j in enumerate(player.cards):\n",
    "        if j.name == \"ace card\":\n",
    "            ace = True\n",
    "            idx = i\n",
    "        v += j.value\n",
    "    if v == 21:\n",
    "        print(\"The sum is 21\\n\")\n",
    "        print(\"Blackjack! Congratulation to player {0}\".format(player.player))\n",
    "        return True\n",
    "        global win\n",
    "        win = True\n",
    "    elif v > 21 and ace == False:\n",
    "        player_sum = sum([i.value for i in player.cards])\n",
    "        print(\"the sum is: {0}\\n\".format(player_sum))\n",
    "        print(\"Unfortunately player {0} is out of bound!\".format(player.player))\n",
    "        win = False\n",
    "        return True\n",
    "    elif v > 21 and ace == True:\n",
    "        player.cards[idx].value = 1"
   ]
  },
  {
   "cell_type": "code",
   "execution_count": 33,
   "metadata": {},
   "outputs": [],
   "source": [
    "def finish(player,dealer):\n",
    "    win = None\n",
    "    sum_dealer = dealer.cards[0].value + dealer.cards[1].value\n",
    "    sum_player = sum([i.value for i in player.cards])\n",
    "    print(\"Dealer cards: {0} {1}\\nthe sum is: {2}\\n\".format(dealer.cards[0].name, dealer.cards[1].name,sum_dealer))\n",
    "    print(\"Player {0} sum is: {1}\\n\".format(player.player,sum_player))\n",
    "    \n",
    "    if sum_dealer > sum_player:\n",
    "        print(\"Lose\")\n",
    "        win = False\n",
    "    elif sum_dealer == sum_player:\n",
    "        print(\"Parity\")\n",
    "    else:\n",
    "        print(\"Win!\")\n",
    "        win = True"
   ]
  },
  {
   "cell_type": "code",
   "execution_count": 34,
   "metadata": {},
   "outputs": [],
   "source": [
    "def game():\n",
    "    print(\"Welcome to Blackjack!\")\n",
    "    win = None\n",
    "    bet = 0\n",
    "\n",
    "    x = input(\"What's your name? \")\n",
    "    \n",
    "    while True:\n",
    "        try:\n",
    "            y = int(input(\"How many cash do you have? \"))\n",
    "            break\n",
    "        except:\n",
    "            print(\"Value not valid. Please retry\")\n",
    "            continue\n",
    "\n",
    "    print(\"Ok {0}, let's begin!\".format(x))\n",
    "\n",
    "    dealer = Hand(\"dealer\",math.inf)\n",
    "    player1 = Hand(x,y)\n",
    "    \n",
    "    while True:\n",
    "        try:\n",
    "            y = int(input(\"How much do you want to bet? \"))\n",
    "            if y > player1.deposit:\n",
    "                print(\"You do not have enough money. Please retry\")\n",
    "                continue\n",
    "            else:\n",
    "                bet = y\n",
    "                break\n",
    "        except:\n",
    "            print(\"Value not valid. Please retry\")\n",
    "            continue\n",
    "    \n",
    "    \n",
    "    \n",
    "    player1.start_draw()\n",
    "    check(player1)\n",
    "    dealer.start_draw()\n",
    "    \n",
    "    while True:\n",
    "        x = input(\"What would you like to do? \")\n",
    "        if x == \"finish\":\n",
    "            finish(player1,dealer)\n",
    "            break\n",
    "        elif x == \"draw\":\n",
    "            player1.draw()\n",
    "            if check(player1):\n",
    "                break\n",
    "            continue\n",
    "        elif x == \"bet\":\n",
    "            if player1.deposit >= bet*2:\n",
    "                bet = bet*2\n",
    "                continue\n",
    "            else:\n",
    "                print(\"You do not have enough money\")\n",
    "                continue\n",
    "        else:\n",
    "            print(\"Please enter a valid response\")\n",
    "            continue\n",
    "    \n",
    "    print(win)\n",
    "    "
   ]
  },
  {
   "cell_type": "code",
   "execution_count": null,
   "metadata": {},
   "outputs": [
    {
     "name": "stdout",
     "output_type": "stream",
     "text": [
      "Welcome to Blackjack!\n",
      "What's your name? esr\n",
      "How many cash do you have? 3434\n",
      "Ok esr, let's begin!\n",
      "How much do you want to bet? 33\n",
      "player esr: ace card 10 card\n",
      "The sum is 21\n",
      "\n",
      "Blackjack! Congratulation to player esr\n",
      "dealer: 5 card\n"
     ]
    }
   ],
   "source": [
    "deck = create_deck()\n",
    "game()"
   ]
  },
  {
   "cell_type": "code",
   "execution_count": 26,
   "metadata": {},
   "outputs": [],
   "source": [
    "class Animal:\n",
    "    def __init__(self):\n",
    "        print(\"Animal created\")\n",
    "\n",
    "    def whoAmI(self):\n",
    "        print(\"Animal\")\n",
    "\n",
    "    def eat(self):\n",
    "        print(\"Eating\")\n",
    "\n",
    "\n",
    "class Dog(Animal):\n",
    "    def __init__(self):\n",
    "        Animal.__init__(self)\n",
    "        print(\"Dog created\")\n",
    "\n",
    "    def whoAmI(self):\n",
    "        print(\"Dog\")\n",
    "\n",
    "    def bark(self):\n",
    "        print(\"Woof!\")\n",
    "        \n",
    "class Player:\n",
    "    def __init__(self,name):\n",
    "        self.name = name\n",
    "\n",
    "class Cash(Player):\n",
    "    def __init__(self,deposit):\n",
    "        self.deposit = deposit"
   ]
  },
  {
   "cell_type": "code",
   "execution_count": 27,
   "metadata": {},
   "outputs": [
    {
     "data": {
      "text/plain": [
       "'gino'"
      ]
     },
     "execution_count": 27,
     "metadata": {},
     "output_type": "execute_result"
    }
   ],
   "source": [
    "a = Player(\"gino\")\n",
    "a.name"
   ]
  },
  {
   "cell_type": "code",
   "execution_count": 31,
   "metadata": {},
   "outputs": [
    {
     "ename": "AttributeError",
     "evalue": "'Cash' object has no attribute 'name'",
     "output_type": "error",
     "traceback": [
      "\u001b[0;31m---------------------------------------------------------------------------\u001b[0m",
      "\u001b[0;31mAttributeError\u001b[0m                            Traceback (most recent call last)",
      "\u001b[0;32m<ipython-input-31-15bd928acfb4>\u001b[0m in \u001b[0;36m<module>\u001b[0;34m()\u001b[0m\n\u001b[1;32m      1\u001b[0m \u001b[0mb\u001b[0m \u001b[0;34m=\u001b[0m \u001b[0mCash\u001b[0m\u001b[0;34m(\u001b[0m\u001b[0;36m12\u001b[0m\u001b[0;34m)\u001b[0m\u001b[0;34m\u001b[0m\u001b[0m\n\u001b[0;32m----> 2\u001b[0;31m \u001b[0mb\u001b[0m\u001b[0;34m.\u001b[0m\u001b[0mname\u001b[0m\u001b[0;34m\u001b[0m\u001b[0m\n\u001b[0m",
      "\u001b[0;31mAttributeError\u001b[0m: 'Cash' object has no attribute 'name'"
     ]
    }
   ],
   "source": [
    "b = Cash(12)\n",
    "b.name"
   ]
  },
  {
   "cell_type": "code",
   "execution_count": 12,
   "metadata": {},
   "outputs": [
    {
     "name": "stdout",
     "output_type": "stream",
     "text": [
      "How many cash do you have? df\n",
      "Retry please\n",
      "How many cash do you have? sadf\n",
      "Retry please\n",
      "How many cash do you have? 22\n"
     ]
    }
   ],
   "source": [
    "while True:\n",
    "    try:\n",
    "        y = int(input(\"How many cash do you have? \"))\n",
    "        break\n",
    "    except:\n",
    "        print(\"Retry please\")\n",
    "        continue"
   ]
  },
  {
   "cell_type": "code",
   "execution_count": 11,
   "metadata": {},
   "outputs": [
    {
     "name": "stdout",
     "output_type": "stream",
     "text": [
      "How many cash do you have? s\n",
      "Eror\n"
     ]
    }
   ],
   "source": [
    "\n",
    "try:\n",
    "    y = int(input(\"How many cash do you have? \"))\n",
    "except:\n",
    "    print(\"Error\")  "
   ]
  },
  {
   "cell_type": "code",
   "execution_count": 10,
   "metadata": {},
   "outputs": [
    {
     "data": {
      "text/plain": [
       "True"
      ]
     },
     "execution_count": 10,
     "metadata": {},
     "output_type": "execute_result"
    }
   ],
   "source": [
    "isinstance(23,int)"
   ]
  },
  {
   "cell_type": "code",
   "execution_count": 16,
   "metadata": {},
   "outputs": [
    {
     "data": {
      "text/plain": [
       "inf"
      ]
     },
     "execution_count": 16,
     "metadata": {},
     "output_type": "execute_result"
    }
   ],
   "source": [
    "import math\n",
    "math.inf - 22"
   ]
  },
  {
   "cell_type": "code",
   "execution_count": null,
   "metadata": {},
   "outputs": [],
   "source": []
  }
 ],
 "metadata": {
  "kernelspec": {
   "display_name": "Python 3",
   "language": "python",
   "name": "python3"
  },
  "language_info": {
   "codemirror_mode": {
    "name": "ipython",
    "version": 3
   },
   "file_extension": ".py",
   "mimetype": "text/x-python",
   "name": "python",
   "nbconvert_exporter": "python",
   "pygments_lexer": "ipython3",
   "version": "3.6.5"
  }
 },
 "nbformat": 4,
 "nbformat_minor": 2
}
