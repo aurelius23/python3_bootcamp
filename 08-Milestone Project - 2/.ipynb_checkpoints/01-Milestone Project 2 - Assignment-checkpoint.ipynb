{
 "cells": [
  {
   "cell_type": "markdown",
   "metadata": {},
   "source": [
    "# Milestone Project 2 - Blackjack Game\n",
    "In this milestone project you will be creating a Complete BlackJack Card Game in Python.\n",
    "\n",
    "Here are the requirements:\n",
    "\n",
    "* You need to create a simple text-based [BlackJack](https://en.wikipedia.org/wiki/Blackjack) game\n",
    "* The game needs to have one player versus an automated dealer.\n",
    "* The player can stand or hit.\n",
    "* The player must be able to pick their betting amount.\n",
    "* You need to keep track of the player's total money.\n",
    "* You need to alert the player of wins, losses, or busts, etc...\n",
    "\n",
    "And most importantly:\n",
    "\n",
    "* **You must use OOP and classes in some portion of your game. You can not just use functions in your game. Use classes to help you define the Deck and the Player's hand. There are many right ways to do this, so explore it well!**\n",
    "\n",
    "\n",
    "Feel free to expand this game. Try including multiple players. Try adding in Double-Down and card splits! Remember to you are free to use any resources you want and as always:\n",
    "\n",
    "# HAVE FUN!"
   ]
  },
  {
   "cell_type": "code",
   "execution_count": 130,
   "metadata": {},
   "outputs": [],
   "source": [
    "import random\n",
    "import time"
   ]
  },
  {
   "cell_type": "code",
   "execution_count": 131,
   "metadata": {},
   "outputs": [],
   "source": [
    "class Card:\n",
    "    def __init__(self,value,name = \"\"):\n",
    "        \n",
    "        figures = [\"jack\",\"queen\",\"king\"]\n",
    "        if value in figures:\n",
    "            self.value = 10\n",
    "            self.name = value + \" card\"\n",
    "        \n",
    "        elif value == \"ace\":\n",
    "            self.name = str(value) + \" card\"\n",
    "            self.value = [1,11]\n",
    "            \n",
    "        else:\n",
    "            self.value = value\n",
    "            self.name = str(value) + \" card\"\n",
    "        \n",
    "    "
   ]
  },
  {
   "cell_type": "code",
   "execution_count": 132,
   "metadata": {},
   "outputs": [],
   "source": [
    "def create_deck():\n",
    "    deck = []\n",
    "    figures = [\"jack\",\"queen\",\"king\",\"ace\"]\n",
    "    for card in range(2,11):\n",
    "        deck += [Card(card)] * 4\n",
    "    for figure in figures:\n",
    "        deck += [Card(figure)] * 4\n",
    "    return deck"
   ]
  },
  {
   "cell_type": "code",
   "execution_count": 144,
   "metadata": {},
   "outputs": [],
   "source": [
    "deck = create_deck()"
   ]
  },
  {
   "cell_type": "code",
   "execution_count": 145,
   "metadata": {},
   "outputs": [],
   "source": [
    "class Hand:\n",
    "    cards = []\n",
    "    def __init__(self,player):\n",
    "        self.player = player\n",
    "\n",
    "        \n",
    "    def draw(self):\n",
    "        x = deck[random.randint(0,(len(deck)-1))]\n",
    "        self.cards.append(x)\n",
    "        deck.remove(x)\n",
    "        \n",
    "    def start_draw(self):\n",
    "        x = deck[random.randint(0,(len(deck)-1))]\n",
    "        self.cards.append(x)\n",
    "        deck.remove(x)\n",
    "        \n",
    "        y = deck[random.randint(0,(len(deck)-1))]\n",
    "        self.cards.append(y)\n",
    "        deck.remove(y)\n",
    "        \n",
    "        if self.player == \"dealer\":\n",
    "            print(\"dealer: {0}\".format(self.cards[0].name))\n",
    "        else:\n",
    "            print(\"player {0}: {1} {2}\".format(self.player,self.cards[0].name,self.cards[1].name))"
   ]
  },
  {
   "cell_type": "code",
   "execution_count": null,
   "metadata": {},
   "outputs": [],
   "source": [
    "def blackjack(player):\n",
    "    v = 0\n",
    "    if player.cards[0].value"
   ]
  },
  {
   "cell_type": "code",
   "execution_count": 135,
   "metadata": {},
   "outputs": [],
   "source": [
    "def game():\n",
    "    print(\"Welcome to Blackjack!\")\n",
    "    time.sleep(1)\n",
    "    x = input(\"What's your name? \")\n",
    "    time.sleep(1)\n",
    "    print(\"Ok {0}, let's begin!\".format(x))\n",
    "    time.sleep(1)\n",
    "    dealer = Hand(\"dealer\")\n",
    "    player1 = Hand(x)\n",
    "    player1.start_draw()\n",
    "    time.sleep(1)\n",
    "    dealer.start_draw()\n",
    "    \n",
    "    \n",
    "    "
   ]
  },
  {
   "cell_type": "code",
   "execution_count": 136,
   "metadata": {},
   "outputs": [
    {
     "name": "stdout",
     "output_type": "stream",
     "text": [
      "Welcome to Blackjack!\n",
      "What's your name? gianlucifer\n",
      "Ok gianlucifer, let's begin!\n",
      "player gianlucifer: 10 card jack card\n",
      "dealer: 10 card\n"
     ]
    }
   ],
   "source": [
    "game()"
   ]
  },
  {
   "cell_type": "code",
   "execution_count": 148,
   "metadata": {},
   "outputs": [
    {
     "name": "stdout",
     "output_type": "stream",
     "text": [
      "player a: 10 card 5 card\n"
     ]
    },
    {
     "data": {
      "text/plain": [
       "[<__main__.Card at 0x7f08200bf0f0>,\n",
       " <__main__.Card at 0x7f08200bf198>,\n",
       " <__main__.Card at 0x7f08200bf128>,\n",
       " <__main__.Card at 0x7f08200bf3c8>]"
      ]
     },
     "execution_count": 148,
     "metadata": {},
     "output_type": "execute_result"
    }
   ],
   "source": [
    "a = Hand(\"a\")\n",
    "a.start_draw()\n",
    "a.cards"
   ]
  },
  {
   "cell_type": "code",
   "execution_count": 147,
   "metadata": {},
   "outputs": [
    {
     "ename": "TypeError",
     "evalue": "list indices must be integers or slices, not Card",
     "output_type": "error",
     "traceback": [
      "\u001b[0;31m---------------------------------------------------------------------------\u001b[0m",
      "\u001b[0;31mTypeError\u001b[0m                                 Traceback (most recent call last)",
      "\u001b[0;32m<ipython-input-147-3e519be70465>\u001b[0m in \u001b[0;36m<module>\u001b[0;34m()\u001b[0m\n\u001b[1;32m      1\u001b[0m \u001b[0;32mfor\u001b[0m \u001b[0mi\u001b[0m \u001b[0;32min\u001b[0m \u001b[0ma\u001b[0m\u001b[0;34m.\u001b[0m\u001b[0mcards\u001b[0m\u001b[0;34m:\u001b[0m\u001b[0;34m\u001b[0m\u001b[0m\n\u001b[0;32m----> 2\u001b[0;31m     \u001b[0mprint\u001b[0m\u001b[0;34m(\u001b[0m\u001b[0ma\u001b[0m\u001b[0;34m.\u001b[0m\u001b[0mcards\u001b[0m\u001b[0;34m[\u001b[0m\u001b[0mi\u001b[0m\u001b[0;34m]\u001b[0m\u001b[0;34m.\u001b[0m\u001b[0mname\u001b[0m\u001b[0;34m)\u001b[0m\u001b[0;34m\u001b[0m\u001b[0m\n\u001b[0m",
      "\u001b[0;31mTypeError\u001b[0m: list indices must be integers or slices, not Card"
     ]
    }
   ],
   "source": [
    "for i in a.cards:\n",
    "    print(a.cards[i].name)"
   ]
  },
  {
   "cell_type": "code",
   "execution_count": null,
   "metadata": {},
   "outputs": [],
   "source": []
  }
 ],
 "metadata": {
  "kernelspec": {
   "display_name": "Python 3",
   "language": "python",
   "name": "python3"
  },
  "language_info": {
   "codemirror_mode": {
    "name": "ipython",
    "version": 3
   },
   "file_extension": ".py",
   "mimetype": "text/x-python",
   "name": "python",
   "nbconvert_exporter": "python",
   "pygments_lexer": "ipython3",
   "version": "3.6.5"
  }
 },
 "nbformat": 4,
 "nbformat_minor": 1
}
