{
 "cells": [
  {
   "cell_type": "markdown",
   "metadata": {},
   "source": [
    "# Milestone Project 2 - Blackjack Game\n",
    "In this milestone project you will be creating a Complete BlackJack Card Game in Python.\n",
    "\n",
    "Here are the requirements:\n",
    "\n",
    "* You need to create a simple text-based [BlackJack](https://en.wikipedia.org/wiki/Blackjack) game\n",
    "* The game needs to have one player versus an automated dealer.\n",
    "* The player can stand or hit.\n",
    "* The player must be able to pick their betting amount.\n",
    "* You need to keep track of the player's total money.\n",
    "* You need to alert the player of wins, losses, or busts, etc...\n",
    "\n",
    "And most importantly:\n",
    "\n",
    "* **You must use OOP and classes in some portion of your game. You can not just use functions in your game. Use classes to help you define the Deck and the Player's hand. There are many right ways to do this, so explore it well!**\n",
    "\n",
    "\n",
    "Feel free to expand this game. Try including multiple players. Try adding in Double-Down and card splits! Remember to you are free to use any resources you want and as always:\n",
    "\n",
    "# HAVE FUN!"
   ]
  },
  {
   "cell_type": "code",
   "execution_count": 2,
   "metadata": {},
   "outputs": [],
   "source": [
    "import random\n",
    "import time"
   ]
  },
  {
   "cell_type": "code",
   "execution_count": 3,
   "metadata": {},
   "outputs": [],
   "source": [
    "class Card:\n",
    "    def __init__(self,value,name = \"\"):\n",
    "        \n",
    "        figures = [\"jack\",\"queen\",\"king\"]\n",
    "        if value in figures:\n",
    "            self.value = 10\n",
    "            self.name = value + \" card\"\n",
    "        \n",
    "        elif value == \"ace\":\n",
    "            self.name = str(value) + \" card\"\n",
    "            self.value = [1,11]\n",
    "            \n",
    "        else:\n",
    "            self.value = value\n",
    "            self.name = str(value) + \" card\"\n",
    "        \n",
    "    "
   ]
  },
  {
   "cell_type": "code",
   "execution_count": 4,
   "metadata": {},
   "outputs": [],
   "source": [
    "def create_deck():\n",
    "    deck = []\n",
    "    figures = [\"jack\",\"queen\",\"king\",\"ace\"]\n",
    "    for card in range(2,11):\n",
    "        deck += [Card(card)] * 4\n",
    "    for figure in figures:\n",
    "        deck += [Card(figure)] * 4\n",
    "    return deck"
   ]
  },
  {
   "cell_type": "code",
   "execution_count": 5,
   "metadata": {},
   "outputs": [],
   "source": [
    "deck = create_deck()"
   ]
  },
  {
   "cell_type": "code",
   "execution_count": 8,
   "metadata": {},
   "outputs": [],
   "source": [
    "class Hand:\n",
    "\n",
    "    def __init__(self,player):\n",
    "        self.player = player\n",
    "        self.cards = []\n",
    "\n",
    "        \n",
    "    def draw(self):\n",
    "        x = deck[random.randint(0,(len(deck)-1))]\n",
    "        self.cards.append(x)\n",
    "        deck.remove(x)\n",
    "        \n",
    "    def start_draw(self):\n",
    "        x = deck[random.randint(0,(len(deck)-1))]\n",
    "        self.cards.append(x)\n",
    "        deck.remove(x)\n",
    "        \n",
    "        y = deck[random.randint(0,(len(deck)-1))]\n",
    "        self.cards.append(y)\n",
    "        deck.remove(y)\n",
    "        \n",
    "        if self.player == \"dealer\":\n",
    "            print(\"dealer: {0}\".format(self.cards[0].name))\n",
    "        else:\n",
    "            print(\"player {0}: {1} {2}\".format(self.player,self.cards[0].name,self.cards[1].name))"
   ]
  },
  {
   "cell_type": "code",
   "execution_count": 9,
   "metadata": {},
   "outputs": [],
   "source": [
    "def check(player):\n",
    "    v = 0\n",
    "    for i in player.cards:\n",
    "        v += i.value\n",
    "    if v == 21:\n",
    "        print(\"Blackjack! Congratulation to player {0}\".format(player))\n",
    "    elif v > 21:\n",
    "        print(\"Unfortunately player {0} is out of bound!\".format(player))"
   ]
  },
  {
   "cell_type": "code",
   "execution_count": 10,
   "metadata": {},
   "outputs": [],
   "source": [
    "def game():\n",
    "    print(\"Welcome to Blackjack!\")\n",
    "\n",
    "    x = input(\"What's your name? \")\n",
    "\n",
    "    print(\"Ok {0}, let's begin!\".format(x))\n",
    "\n",
    "    dealer = Hand(\"dealer\")\n",
    "    player1 = Hand(x)\n",
    "    player1.start_draw()\n",
    "    check(player1)\n",
    "\n",
    "    dealer.start_draw()\n",
    "    \n",
    "    \n",
    "    "
   ]
  },
  {
   "cell_type": "code",
   "execution_count": 11,
   "metadata": {},
   "outputs": [
    {
     "name": "stdout",
     "output_type": "stream",
     "text": [
      "Welcome to Blackjack!\n",
      "What's your name? s\n",
      "Ok s, let's begin!\n",
      "player s: queen card 9 card\n",
      "dealer: 3 card\n"
     ]
    }
   ],
   "source": [
    "game()"
   ]
  },
  {
   "cell_type": "code",
   "execution_count": 41,
   "metadata": {},
   "outputs": [],
   "source": [
    "deck = create_deck()"
   ]
  },
  {
   "cell_type": "code",
   "execution_count": 42,
   "metadata": {},
   "outputs": [
    {
     "data": {
      "text/plain": [
       "[<__main__.Card at 0x7f537455acf8>,\n",
       " <__main__.Card at 0x7f537455acc0>,\n",
       " <__main__.Card at 0x7f537455ac50>,\n",
       " <__main__.Card at 0x7f5374562be0>,\n",
       " <__main__.Card at 0x7f537455ac18>,\n",
       " <__main__.Card at 0x7f537455aac8>]"
      ]
     },
     "execution_count": 42,
     "metadata": {},
     "output_type": "execute_result"
    }
   ],
   "source": [
    "a = Hand(\"oiluo\")\n",
    "a.draw()\n",
    "a.draw()\n",
    "a.cards"
   ]
  }
 ],
 "metadata": {
  "kernelspec": {
   "display_name": "Python 3",
   "language": "python",
   "name": "python3"
  },
  "language_info": {
   "codemirror_mode": {
    "name": "ipython",
    "version": 3
   },
   "file_extension": ".py",
   "mimetype": "text/x-python",
   "name": "python",
   "nbconvert_exporter": "python",
   "pygments_lexer": "ipython3",
   "version": "3.6.5"
  }
 },
 "nbformat": 4,
 "nbformat_minor": 1
}
